{
 "cells": [
  {
   "cell_type": "code",
   "execution_count": 1,
   "metadata": {},
   "outputs": [],
   "source": [
    "from sklearn.svm import SVC\n",
    "from sklearn.decomposition import PCA\n",
    "from sklearn.metrics import classification_report\n",
    "from model_design import AutoEncoder\n",
    "from data import get_dataset\n",
    "import torch"
   ]
  },
  {
   "cell_type": "code",
   "execution_count": 2,
   "metadata": {},
   "outputs": [
    {
     "name": "stdout",
     "output_type": "stream",
     "text": [
      "train_data_x.shape: torch.Size([60000, 784])\n",
      "test_data_x.shape: torch.Size([10000, 784])\n",
      "Load model done\n"
     ]
    }
   ],
   "source": [
    "train_loader, train_data_y, test_loader, test_data_y = get_dataset(train_batch_size=60000, test_batch_size=10000)\n",
    "auto_encoder_model = AutoEncoder()\n",
    "\n",
    "checkpoint = torch.load(\"./checkpoint/auto_encoder.pth\")\n",
    "auto_encoder_model.load_state_dict(checkpoint[\"state_dict\"])\n",
    "auto_encoder_model.eval()\n",
    "print(\"Load model done\")"
   ]
  },
  {
   "cell_type": "code",
   "execution_count": 3,
   "metadata": {},
   "outputs": [],
   "source": [
    "for i, train_data_x in enumerate(train_loader):\n",
    "    if i > 0:\n",
    "        break\n",
    "train_x_encoder, _ = auto_encoder_model(train_data_x)\n",
    "train_x_encoder = train_x_encoder.data.numpy()\n",
    "train_y = train_data_y.data.numpy()\n",
    "\n",
    "for i, test_data_x in enumerate(test_loader):\n",
    "    if i > 0:\n",
    "        break\n",
    "test_x_encoder, _ = auto_encoder_model(test_data_x)\n",
    "test_x_encoder = test_x_encoder.data.numpy()\n",
    "test_y = test_data_y.data.numpy()"
   ]
  },
  {
   "cell_type": "code",
   "execution_count": 4,
   "metadata": {},
   "outputs": [
    {
     "name": "stdout",
     "output_type": "stream",
     "text": [
      "pca_train_x.shape: (60000, 3)\n"
     ]
    }
   ],
   "source": [
    "pca_model = PCA(n_components=3, random_state=100)\n",
    "pca_train_x = pca_model.fit_transform(train_data_x.data.numpy())\n",
    "pca_test_x = pca_model.fit_transform(test_data_x.data.numpy())\n",
    "print(f\"pca_train_x.shape: {pca_train_x.shape}\")"
   ]
  },
  {
   "cell_type": "code",
   "execution_count": null,
   "metadata": {},
   "outputs": [],
   "source": [
    "encoder_svc = SVC(kernel='rbf', random_state=123)\n",
    "encoder_svc.fit(train_x_encoder, train_y)\n",
    "pred_svc = encoder_svc.predict(test_x_encoder)\n",
    "print(classification_report(test_y, pred_svc))"
   ]
  }
 ],
 "metadata": {
  "kernelspec": {
   "display_name": "Python [conda env:torch17]",
   "language": "python",
   "name": "conda-env-torch17-py"
  },
  "language_info": {
   "codemirror_mode": {
    "name": "ipython",
    "version": 3
   },
   "file_extension": ".py",
   "mimetype": "text/x-python",
   "name": "python",
   "nbconvert_exporter": "python",
   "pygments_lexer": "ipython3",
   "version": "3.6.13"
  },
  "toc": {
   "base_numbering": 1,
   "nav_menu": {},
   "number_sections": true,
   "sideBar": true,
   "skip_h1_title": false,
   "title_cell": "Table of Contents",
   "title_sidebar": "Contents",
   "toc_cell": false,
   "toc_position": {},
   "toc_section_display": true,
   "toc_window_display": false
  }
 },
 "nbformat": 4,
 "nbformat_minor": 4
}
